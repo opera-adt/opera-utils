{
 "cells": [
  {
   "cell_type": "markdown",
   "id": "cec09ce7",
   "metadata": {},
   "source": [
    "# Tutorial: create a time series stack from OPERA DISP-S1 data"
   ]
  },
  {
   "cell_type": "markdown",
   "id": "f316ca50",
   "metadata": {},
   "source": [
    "## 0. Environment Setup\n",
    "\n",
    "This will require an Earthdata username/password, either as a `~/.netrc` file:\n",
    "\n",
    "First install `opera-utils` with the optional disp dependency (or via conda-forge):"
   ]
  },
  {
   "cell_type": "code",
   "execution_count": null,
   "id": "1a6f9c9f",
   "metadata": {},
   "outputs": [],
   "source": [
    "HAS_LATEST_OPERA_UTILS = False\n",
    "try:\n",
    "    import opera_utils\n",
    "\n",
    "    HAS_LATEST_OPERA_UTILS = opera_utils.__version__ >= \"0.23.3\"\n",
    "except ImportError:\n",
    "    pass\n",
    "if not HAS_LATEST_OPERA_UTILS:\n",
    "    !pip install \"opera-utils[disp]>=0.23.3\""
   ]
  },
  {
   "cell_type": "markdown",
   "id": "e9110a1a",
   "metadata": {},
   "source": [
    "Next, make sure we have our ~/.netrc file set up with earthdata credentials.\n",
    "If you don't have a profile, you can [register here](https://urs.earthdata.nasa.gov/users/new).\n",
    "\n",
    "```\n",
    "$ cat ~/.netrc\n",
    "machine urs.earthdata.nasa.gov\n",
    "        login your_username\n",
    "        password your_password\n",
    "```\n",
    "\n"
   ]
  },
  {
   "cell_type": "code",
   "execution_count": null,
   "id": "27e5e6da",
   "metadata": {},
   "outputs": [],
   "source": [
    "!pip install tinynetrc\n"
   ]
  },
  {
   "cell_type": "code",
   "execution_count": null,
   "id": "d8a011a6",
   "metadata": {},
   "outputs": [],
   "source": [
    "\n",
    "from pathlib import Path\n",
    "\n",
    "from tinynetrc import Netrc\n",
    "\n",
    "EARTHDATA_USERNAME = \"myusername\"\n",
    "EARTHDATA_PASSWORD = \"CHANGEME\"\n",
    "p = Path.home() / \".netrc\"\n",
    "p.touch(mode=0o600, exist_ok=True)\n",
    "with Netrc(p) as n:\n",
    "    n[\"urs.earthdata.nasa.gov\"] = {\n",
    "        \"login\": EARTHDATA_USERNAME,\n",
    "        \"password\": EARTHDATA_PASSWORD,\n",
    "    }\n"
   ]
  },
  {
   "cell_type": "code",
   "execution_count": null,
   "id": "84315566",
   "metadata": {},
   "outputs": [],
   "source": [
    "\n",
    "import opera_utils.credentials\n",
    "\n",
    "try:\n",
    "    opera_utils.credentials.get_earthdata_username_password(\n",
    "        earthdata_username=None, earthdata_password=None\n",
    "    )\n",
    "except opera_utils.credentials.EarthdataLoginError:\n",
    "    print(\"Please set up your earthdata credentials\")\n",
    "    raise"
   ]
  },
  {
   "cell_type": "markdown",
   "id": "5cd09eef",
   "metadata": {},
   "source": [
    "## 1. Download a Frame Subset Over West Texas\n",
    "\n",
    "Now we'll run the download command to get a geographic subset of the DISP-S1 NetCDF files.\n",
    "\n",
    "\n",
    "Other options include:\n",
    "\n",
    "- `--wkt`: define a polygon to download based on a well-known text string\n",
    "- `--url-type S3`: download directly from S3 (if you are running this on an EC2 instance in the \"us-west-2\" region)\n",
    "- `--start-datetime` and `--end-datetime`: define a time range to download"
   ]
  },
  {
   "cell_type": "code",
   "execution_count": null,
   "id": "72afea97",
   "metadata": {},
   "outputs": [],
   "source": [
    "%%bash\n",
    "opera-utils disp-s1-download \\\n",
    "    --bbox -102.71 31.35 -102.6 31.45 \\\n",
    "    --frame-id 20697 \\\n",
    "    --output-dir subsets-west-texas \\\n",
    "    --start-datetime 2021-01-01 \\\n",
    "    --end-datetime 2024-01-01 \\\n",
    "    --num-workers 4\n"
   ]
  },
  {
   "cell_type": "markdown",
   "id": "1c968c62",
   "metadata": {},
   "source": [
    "## 2. Reformat the data to remove the \"moving reference\"\n",
    "\n",
    "We'll create one 3D stack of data with all the layers in it that has taken care of the moving reference date.\n",
    "This lets us plot the continuous time series from the start without jumps in the time series.\n",
    "We're going to use the \"border\" referencing, since we're downloading a small land area surrounding one uplift.\n",
    "This will spatially reference each time series epoch to the average of the border pixels.\n",
    "\n",
    "To see all options for setting up this stack, run `opera-utils disp-s1-reformat --help`"
   ]
  },
  {
   "cell_type": "code",
   "execution_count": null,
   "id": "4eaeac9f",
   "metadata": {},
   "outputs": [],
   "source": [
    "%%bash\n",
    "opera-utils disp-s1-reformat \\\n",
    "    --output-name stack-west-texas.zarr \\\n",
    "    --input-files subsets-west-texas/OPERA_L3_DISP-S1*.nc \\\n",
    "    --reference-method BORDER"
   ]
  },
  {
   "cell_type": "markdown",
   "id": "53e3f28a",
   "metadata": {},
   "source": [
    "## 3. Plot the results\n",
    "\n"
   ]
  },
  {
   "cell_type": "code",
   "execution_count": null,
   "id": "4164bbfb",
   "metadata": {},
   "outputs": [],
   "source": [
    "try:\n",
    "    import matplotlib.pyplot as plt\n",
    "except ImportError as e:\n",
    "    print(f\"Failed to import matplotlib: {e}\")\n",
    "    !pip install matplotlib\n",
    "import numpy as np\n",
    "import xarray as xr\n",
    "\n",
    "%matplotlib inline"
   ]
  },
  {
   "cell_type": "code",
   "execution_count": null,
   "id": "353cfbc9",
   "metadata": {},
   "outputs": [],
   "source": [
    "ds = xr.open_dataset(\"stack-west-texas.zarr\", consolidated=False)\n",
    "ds"
   ]
  },
  {
   "cell_type": "code",
   "execution_count": null,
   "id": "f9be3927",
   "metadata": {},
   "outputs": [],
   "source": [
    "fig, axes = plt.subplots(ncols=2, figsize=(10, 4))\n",
    "\n",
    "# Plot the cumulative displacement\n",
    "last_displacement = ds.displacement.isel(time=-1)\n",
    "last_displacement.plot.imshow(ax=axes[0])\n",
    "\n",
    "# Plot the time series at the maximum uplift\n",
    "row, col = np.unravel_index(\n",
    "    np.nanargmax(last_displacement.values), last_displacement.shape\n",
    ")\n",
    "ds.displacement.isel(y=row, x=col).plot(ax=axes[1], marker=\".\")\n",
    "fig.tight_layout()"
   ]
  }
 ],
 "metadata": {
  "jupytext": {
   "formats": "ipynb,md,py:percent"
  },
  "kernelspec": {
   "display_name": "Python 3 (ipykernel)",
   "language": "python",
   "name": "python3"
  }
 },
 "nbformat": 4,
 "nbformat_minor": 5
}
