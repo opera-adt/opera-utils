{
 "cells": [
  {
   "cell_type": "markdown",
   "id": "a875a3fe-d6e3-4be7-b9d4-246a114daa68",
   "metadata": {},
   "source": [
    "# Streaming accessing to OPERA DISP-S1 data\n",
    "\n",
    "The [OPERA project](https://www.jpl.nasa.gov/go/opera/products/disp-product-suite/) is producing a surface displacement (DISP) product derived from interferometric synthetic aperture radar (InSAR).\n",
    "\n",
    "The products measure displacement of the ground surface along the radar line-of-sight (LOS), capturing changes caused by a variety of anthropogenic and natural sources, including earthquakes and landslides."
   ]
  },
  {
   "cell_type": "code",
   "execution_count": 11,
   "id": "134a3333-c65f-4fde-8887-0c8b92435d61",
   "metadata": {},
   "outputs": [],
   "source": [
    "# pip install \"opera-utils[remote]>=0.18\"\n",
    "from datetime import datetime\n",
    "\n",
    "from shapely import Point\n",
    "\n",
    "import opera_utils.disp.search"
   ]
  },
  {
   "cell_type": "code",
   "execution_count": null,
   "id": "a1dcc237-06be-474a-82fe-0ad6efe6ed8f",
   "metadata": {},
   "outputs": [],
   "source": []
  },
  {
   "cell_type": "markdown",
   "id": "99540e09-fa51-48cf-a5ba-3e8ac69a4434",
   "metadata": {},
   "source": [
    "## Earthquake example: Ridgecrest, 2019-07-04\n",
    "\n",
    "https://earthquake.usgs.gov/storymap/index-ridgecrest.html\n",
    "\n",
    "2019-07-04 17:33:49 (UTC)\n",
    "35.705°N 117.504°W\n"
   ]
  },
  {
   "cell_type": "code",
   "execution_count": 3,
   "id": "431f235f-e03f-42d6-bc12-22b7979394c7",
   "metadata": {},
   "outputs": [
    {
     "name": "stdout",
     "output_type": "stream",
     "text": [
      "(117.304, 35.504999999999995, 117.70400000000001, 35.905)\n"
     ]
    }
   ],
   "source": [
    "point = Point(-117.504, 35.705)\n",
    "bounds = point.buffer(0.2).bounds\n",
    "print(bounds)"
   ]
  },
  {
   "cell_type": "code",
   "execution_count": 6,
   "id": "33af51f0-b191-48e7-9d5e-6ef233a9cd51",
   "metadata": {},
   "outputs": [
    {
     "name": "stdout",
     "output_type": "stream",
     "text": [
      "16941\n",
      "18903\n"
     ]
    }
   ],
   "source": [
    "!opera-utils disp-s1 intersects --point -117.504 35.705 --ids-only"
   ]
  },
  {
   "cell_type": "code",
   "execution_count": 13,
   "id": "2fbd2091-0bb9-4709-a1cf-74b6822f3fbe",
   "metadata": {},
   "outputs": [
    {
     "ename": "HTTPError",
     "evalue": "400 Client Error: Bad Request for url: https://cmr.uat.earthdata.nasa.gov/search/granules.umm_json?short_name=OPERA_L3_DISP-S1_V1&page_size=2000&attribute%5B%5D=int%2CFRAME_NUMBER%2C18903&attribute%5B%5D=float%2CPRODUCT_VERSION%2Cv1.1&temporal=2019-06-15T00%3A00%3A00%2C2019-07-15T00%3A00%3A00",
     "output_type": "error",
     "traceback": [
      "\u001b[0;31m---------------------------------------------------------------------------\u001b[0m",
      "\u001b[0;31mHTTPError\u001b[0m                                 Traceback (most recent call last)",
      "Cell \u001b[0;32mIn[13], line 3\u001b[0m\n\u001b[1;32m      1\u001b[0m frame_id \u001b[38;5;241m=\u001b[39m \u001b[38;5;241m18903\u001b[39m\n\u001b[0;32m----> 3\u001b[0m \u001b[43mopera_utils\u001b[49m\u001b[38;5;241;43m.\u001b[39;49m\u001b[43mdisp\u001b[49m\u001b[38;5;241;43m.\u001b[39;49m\u001b[43msearch\u001b[49m\u001b[38;5;241;43m.\u001b[39;49m\u001b[43mget_products\u001b[49m\u001b[43m(\u001b[49m\u001b[43mframe_id\u001b[49m\u001b[43m,\u001b[49m\u001b[43m \u001b[49m\u001b[43mstart_datetime\u001b[49m\u001b[38;5;241;43m=\u001b[39;49m\u001b[43mdatetime\u001b[49m\u001b[43m(\u001b[49m\u001b[38;5;241;43m2019\u001b[39;49m\u001b[43m,\u001b[49m\u001b[38;5;241;43m6\u001b[39;49m\u001b[43m,\u001b[49m\u001b[38;5;241;43m15\u001b[39;49m\u001b[43m)\u001b[49m\u001b[43m,\u001b[49m\u001b[43m \u001b[49m\u001b[43mend_datetime\u001b[49m\u001b[38;5;241;43m=\u001b[39;49m\u001b[43mdatetime\u001b[49m\u001b[43m(\u001b[49m\u001b[38;5;241;43m2019\u001b[39;49m\u001b[43m,\u001b[49m\u001b[38;5;241;43m7\u001b[39;49m\u001b[43m,\u001b[49m\u001b[38;5;241;43m15\u001b[39;49m\u001b[43m)\u001b[49m\u001b[43m,\u001b[49m\n\u001b[1;32m      4\u001b[0m \u001b[43m                                    \u001b[49m\u001b[43muse_uat\u001b[49m\u001b[38;5;241;43m=\u001b[39;49m\u001b[38;5;28;43;01mTrue\u001b[39;49;00m\u001b[43m,\u001b[49m\u001b[43m \u001b[49m\u001b[43mproduct_version\u001b[49m\u001b[38;5;241;43m=\u001b[39;49m\u001b[38;5;124;43m\"\u001b[39;49m\u001b[38;5;124;43mv1.1\u001b[39;49m\u001b[38;5;124;43m\"\u001b[39;49m\u001b[43m)\u001b[49m\n",
      "File \u001b[0;32m~/repos/opera-utils/src/opera_utils/disp/search.py:225\u001b[0m, in \u001b[0;36mget_products\u001b[0;34m(frame_id, product_version, start_datetime, end_datetime, url_type, use_uat)\u001b[0m\n\u001b[1;32m    223\u001b[0m \u001b[38;5;28;01mwhile\u001b[39;00m \u001b[38;5;28;01mTrue\u001b[39;00m:\n\u001b[1;32m    224\u001b[0m     response \u001b[38;5;241m=\u001b[39m requests\u001b[38;5;241m.\u001b[39mget(search_url, params\u001b[38;5;241m=\u001b[39mparams, headers\u001b[38;5;241m=\u001b[39mheaders)\n\u001b[0;32m--> 225\u001b[0m     \u001b[43mresponse\u001b[49m\u001b[38;5;241;43m.\u001b[39;49m\u001b[43mraise_for_status\u001b[49m\u001b[43m(\u001b[49m\u001b[43m)\u001b[49m\n\u001b[1;32m    226\u001b[0m     data \u001b[38;5;241m=\u001b[39m response\u001b[38;5;241m.\u001b[39mjson()\n\u001b[1;32m    227\u001b[0m     cur_granules \u001b[38;5;241m=\u001b[39m [\n\u001b[1;32m    228\u001b[0m         Granule\u001b[38;5;241m.\u001b[39mfrom_umm(item[\u001b[38;5;124m\"\u001b[39m\u001b[38;5;124mumm\u001b[39m\u001b[38;5;124m\"\u001b[39m], url_type\u001b[38;5;241m=\u001b[39murl_type) \u001b[38;5;28;01mfor\u001b[39;00m item \u001b[38;5;129;01min\u001b[39;00m data[\u001b[38;5;124m\"\u001b[39m\u001b[38;5;124mitems\u001b[39m\u001b[38;5;124m\"\u001b[39m]\n\u001b[1;32m    229\u001b[0m     ]\n",
      "File \u001b[0;32m~/miniforge3/envs/mapping-312/lib/python3.12/site-packages/requests/models.py:1024\u001b[0m, in \u001b[0;36mResponse.raise_for_status\u001b[0;34m(self)\u001b[0m\n\u001b[1;32m   1019\u001b[0m     http_error_msg \u001b[38;5;241m=\u001b[39m (\n\u001b[1;32m   1020\u001b[0m         \u001b[38;5;124mf\u001b[39m\u001b[38;5;124m\"\u001b[39m\u001b[38;5;132;01m{\u001b[39;00m\u001b[38;5;28mself\u001b[39m\u001b[38;5;241m.\u001b[39mstatus_code\u001b[38;5;132;01m}\u001b[39;00m\u001b[38;5;124m Server Error: \u001b[39m\u001b[38;5;132;01m{\u001b[39;00mreason\u001b[38;5;132;01m}\u001b[39;00m\u001b[38;5;124m for url: \u001b[39m\u001b[38;5;132;01m{\u001b[39;00m\u001b[38;5;28mself\u001b[39m\u001b[38;5;241m.\u001b[39murl\u001b[38;5;132;01m}\u001b[39;00m\u001b[38;5;124m\"\u001b[39m\n\u001b[1;32m   1021\u001b[0m     )\n\u001b[1;32m   1023\u001b[0m \u001b[38;5;28;01mif\u001b[39;00m http_error_msg:\n\u001b[0;32m-> 1024\u001b[0m     \u001b[38;5;28;01mraise\u001b[39;00m HTTPError(http_error_msg, response\u001b[38;5;241m=\u001b[39m\u001b[38;5;28mself\u001b[39m)\n",
      "\u001b[0;31mHTTPError\u001b[0m: 400 Client Error: Bad Request for url: https://cmr.uat.earthdata.nasa.gov/search/granules.umm_json?short_name=OPERA_L3_DISP-S1_V1&page_size=2000&attribute%5B%5D=int%2CFRAME_NUMBER%2C18903&attribute%5B%5D=float%2CPRODUCT_VERSION%2Cv1.1&temporal=2019-06-15T00%3A00%3A00%2C2019-07-15T00%3A00%3A00"
     ]
    }
   ],
   "source": [
    "frame_id = 18903\n",
    "\n",
    "opera_utils.disp.search.get_products(frame_id, start_datetime=datetime(2019,6,15), end_datetime=datetime(2019,7,15),\n",
    "                                    use_uat=True, product_version=\"v1.1\")"
   ]
  },
  {
   "cell_type": "code",
   "execution_count": null,
   "id": "2b06d873-dd61-41aa-ae21-a65fb9784e13",
   "metadata": {},
   "outputs": [],
   "source": []
  }
 ],
 "metadata": {
  "kernelspec": {
   "display_name": "Python 3 (ipykernel)",
   "language": "python",
   "name": "python3"
  },
  "language_info": {
   "codemirror_mode": {
    "name": "ipython",
    "version": 3
   },
   "file_extension": ".py",
   "mimetype": "text/x-python",
   "name": "python",
   "nbconvert_exporter": "python",
   "pygments_lexer": "ipython3",
   "version": "3.12.7"
  }
 },
 "nbformat": 4,
 "nbformat_minor": 5
}
